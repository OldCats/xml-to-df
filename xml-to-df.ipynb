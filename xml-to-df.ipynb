{
 "cells": [
  {
   "cell_type": "code",
   "execution_count": null,
   "id": "5b373dff-2ee8-4d83-963a-44d664fcfd69",
   "metadata": {},
   "outputs": [],
   "source": [
    "!pip install xml-to-df"
   ]
  },
  {
   "cell_type": "code",
   "execution_count": 1,
   "id": "a11dce99-9d28-4dcf-9c2c-975c23b0b260",
   "metadata": {},
   "outputs": [],
   "source": [
    "import xml_to_df"
   ]
  },
  {
   "cell_type": "code",
   "execution_count": 2,
   "id": "3fb557b7-03d0-4188-b583-0cd267e75a30",
   "metadata": {},
   "outputs": [
    {
     "data": {
      "text/html": [
       "<div>\n",
       "<style scoped>\n",
       "    .dataframe tbody tr th:only-of-type {\n",
       "        vertical-align: middle;\n",
       "    }\n",
       "\n",
       "    .dataframe tbody tr th {\n",
       "        vertical-align: top;\n",
       "    }\n",
       "\n",
       "    .dataframe thead th {\n",
       "        text-align: right;\n",
       "    }\n",
       "</style>\n",
       "<table border=\"1\" class=\"dataframe\">\n",
       "  <thead>\n",
       "    <tr style=\"text-align: right;\">\n",
       "      <th></th>\n",
       "      <th>book_category</th>\n",
       "      <th>book_title_lang</th>\n",
       "      <th>book_title</th>\n",
       "      <th>book_author</th>\n",
       "      <th>book_year</th>\n",
       "      <th>book_price</th>\n",
       "      <th>book_values_value_id</th>\n",
       "      <th>book_values_value</th>\n",
       "      <th>book_title_language</th>\n",
       "      <th>book_cricketers_cricketer1</th>\n",
       "      <th>book_cricketers_cricketer2</th>\n",
       "      <th>book_cricketers_country</th>\n",
       "    </tr>\n",
       "  </thead>\n",
       "  <tbody>\n",
       "    <tr>\n",
       "      <th>0</th>\n",
       "      <td>COOKING</td>\n",
       "      <td>en</td>\n",
       "      <td>Everyday Italian</td>\n",
       "      <td>Giada De Laurentiis</td>\n",
       "      <td>2005</td>\n",
       "      <td>30.00</td>\n",
       "      <td>[300, 100, 200]</td>\n",
       "      <td>[1, 5, 2]</td>\n",
       "      <td>NaN</td>\n",
       "      <td>NaN</td>\n",
       "      <td>NaN</td>\n",
       "      <td>NaN</td>\n",
       "    </tr>\n",
       "    <tr>\n",
       "      <th>1</th>\n",
       "      <td>CHILDREN</td>\n",
       "      <td>en</td>\n",
       "      <td>Harry Potter</td>\n",
       "      <td>J K. Rowling</td>\n",
       "      <td>2005</td>\n",
       "      <td>29.99</td>\n",
       "      <td>NaN</td>\n",
       "      <td>NaN</td>\n",
       "      <td>hello</td>\n",
       "      <td>Praveen</td>\n",
       "      <td>Pathan</td>\n",
       "      <td>[india, india1]</td>\n",
       "    </tr>\n",
       "    <tr>\n",
       "      <th>2</th>\n",
       "      <td>WEB</td>\n",
       "      <td>en</td>\n",
       "      <td>Learning XML</td>\n",
       "      <td>Erik T. Ray</td>\n",
       "      <td>2003</td>\n",
       "      <td>39.95</td>\n",
       "      <td>NaN</td>\n",
       "      <td>NaN</td>\n",
       "      <td>NaN</td>\n",
       "      <td>NaN</td>\n",
       "      <td>NaN</td>\n",
       "      <td>NaN</td>\n",
       "    </tr>\n",
       "  </tbody>\n",
       "</table>\n",
       "</div>"
      ],
      "text/plain": [
       "  book_category book_title_lang        book_title          book_author  \\\n",
       "0       COOKING              en  Everyday Italian  Giada De Laurentiis   \n",
       "1      CHILDREN              en      Harry Potter         J K. Rowling   \n",
       "2           WEB              en      Learning XML          Erik T. Ray   \n",
       "\n",
       "  book_year book_price book_values_value_id book_values_value  \\\n",
       "0      2005      30.00      [300, 100, 200]         [1, 5, 2]   \n",
       "1      2005      29.99                  NaN               NaN   \n",
       "2      2003      39.95                  NaN               NaN   \n",
       "\n",
       "  book_title_language book_cricketers_cricketer1 book_cricketers_cricketer2  \\\n",
       "0                 NaN                        NaN                        NaN   \n",
       "1               hello                    Praveen                     Pathan   \n",
       "2                 NaN                        NaN                        NaN   \n",
       "\n",
       "  book_cricketers_country  \n",
       "0                     NaN  \n",
       "1         [india, india1]  \n",
       "2                     NaN  "
      ]
     },
     "execution_count": 2,
     "metadata": {},
     "output_type": "execute_result"
    }
   ],
   "source": [
    "xml_to_df.convert_xml_to_df('input.xml')"
   ]
  }
 ],
 "metadata": {
  "kernelspec": {
   "display_name": "Python 3",
   "language": "python",
   "name": "python3"
  },
  "language_info": {
   "codemirror_mode": {
    "name": "ipython",
    "version": 3
   },
   "file_extension": ".py",
   "mimetype": "text/x-python",
   "name": "python",
   "nbconvert_exporter": "python",
   "pygments_lexer": "ipython3",
   "version": "3.9.1"
  }
 },
 "nbformat": 4,
 "nbformat_minor": 5
}
